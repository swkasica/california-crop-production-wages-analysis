{
 "cells": [
  {
   "cell_type": "markdown",
   "metadata": {},
   "source": [
    "# Download \n",
    "\n",
    "Downloads the annual [Quarterly Census of Employment and Wages](https://www.bls.gov/cew/datatoc.htm) from the U.S. Bureau of Labor Statistics."
   ]
  },
  {
   "cell_type": "code",
   "execution_count": 1,
   "metadata": {},
   "outputs": [
    {
     "name": "stdout",
     "output_type": "stream",
     "text": [
      "  % Total    % Received % Xferd  Average Speed   Time    Time     Time  Current\n",
      "                                 Dload  Upload   Total   Spent    Left  Speed\n",
      "100  167k  100  167k    0     0  20563      0  0:00:08  0:00:08 --:--:-- 41280\n"
     ]
    }
   ],
   "source": [
    "!curl -o data/area_titles.csv https://data.bls.gov/cew/doc/titles/area/area_titles.csv"
   ]
  },
  {
   "cell_type": "code",
   "execution_count": 2,
   "metadata": {},
   "outputs": [
    {
     "name": "stdout",
     "output_type": "stream",
     "text": [
      "  % Total    % Received % Xferd  Average Speed   Time    Time     Time  Current\n",
      "                                 Dload  Upload   Total   Spent    Left  Speed\n",
      "100 74.1M  100 74.1M    0     0   935k      0  0:01:21  0:01:21 --:--:-- 9122k  0:00:14  0:13:31  209k\n"
     ]
    }
   ],
   "source": [
    "!curl -o data/2015.zip https://data.bls.gov/cew/data/files/2015/csv/2015_annual_singlefile.zip"
   ]
  },
  {
   "cell_type": "code",
   "execution_count": 3,
   "metadata": {},
   "outputs": [
    {
     "name": "stdout",
     "output_type": "stream",
     "text": [
      "  % Total    % Received % Xferd  Average Speed   Time    Time     Time  Current\n",
      "                                 Dload  Upload   Total   Spent    Left  Speed\n",
      "100 73.7M  100 73.7M    0     0  8612k      0  0:00:08  0:00:08 --:--:-- 10.3M 5699k      0  0:00:13  0:00:03  0:00:10 5698k\n"
     ]
    }
   ],
   "source": [
    "!curl -o data/2014.zip https://data.bls.gov/cew/data/files/2014/csv/2014_annual_singlefile.zip"
   ]
  },
  {
   "cell_type": "code",
   "execution_count": 4,
   "metadata": {},
   "outputs": [
    {
     "name": "stdout",
     "output_type": "stream",
     "text": [
      "  % Total    % Received % Xferd  Average Speed   Time    Time     Time  Current\n",
      "                                 Dload  Upload   Total   Spent    Left  Speed\n",
      "100 73.3M  100 73.3M    0     0  6638k      0  0:00:11  0:00:11 --:--:-- 8083k\n"
     ]
    }
   ],
   "source": [
    "!curl -o data/2013.zip https://data.bls.gov/cew/data/files/2013/csv/2013_annual_singlefile.zip"
   ]
  },
  {
   "cell_type": "code",
   "execution_count": 5,
   "metadata": {},
   "outputs": [
    {
     "name": "stdout",
     "output_type": "stream",
     "text": [
      "  % Total    % Received % Xferd  Average Speed   Time    Time     Time  Current\n",
      "                                 Dload  Upload   Total   Spent    Left  Speed\n",
      "100 73.2M  100 73.2M    0     0   602k      0  0:02:04  0:02:04 --:--:--  453k 0:06:07  0:00:10  0:05:57  224k  322k      0  0:03:52  0:00:39  0:03:13  343k92 73.2M   92 67.8M    0     0   630k      0  0:01:59  0:01:50  0:00:09  957k\n"
     ]
    }
   ],
   "source": [
    "!curl -o data/2012.zip https://data.bls.gov/cew/data/files/2012/csv/2012_annual_singlefile.zip"
   ]
  },
  {
   "cell_type": "code",
   "execution_count": 6,
   "metadata": {},
   "outputs": [
    {
     "name": "stdout",
     "output_type": "stream",
     "text": [
      "  % Total    % Received % Xferd  Average Speed   Time    Time     Time  Current\n",
      "                                 Dload  Upload   Total   Spent    Left  Speed\n",
      "100 73.1M  100 73.1M    0     0   581k      0  0:02:08  0:02:08 --:--:-- 3060k\n"
     ]
    }
   ],
   "source": [
    "!curl -o data/2011.zip https://data.bls.gov/cew/data/files/2011/csv/2011_annual_singlefile.zip"
   ]
  },
  {
   "cell_type": "code",
   "execution_count": 7,
   "metadata": {},
   "outputs": [
    {
     "name": "stdout",
     "output_type": "stream",
     "text": [
      "  % Total    % Received % Xferd  Average Speed   Time    Time     Time  Current\n",
      "                                 Dload  Upload   Total   Spent    Left  Speed\n",
      "100 74.3M  109 73.9M    0     0   554k      0  0:02:17  0:02:16  0:00:01  246k  0   771k      0  0:01:38  0:00:02  0:01:36  771k 74.3M   19 14.2M    0     0   796k      0  0:01:35  0:00:18  0:01:17  718k:00:53  0:01:08  464k.2M    0     0   557k      0  0:02:16  0:01:50  0:00:26  628k0 74.3M    0     0   554k      0  0:02:17  0:02:17 --:--:--  204k\n"
     ]
    }
   ],
   "source": [
    "!curl -o data/2010.zip https://data.bls.gov/cew/data/files/2010/csv/2010_annual_singlefile.zip"
   ]
  },
  {
   "cell_type": "code",
   "execution_count": 8,
   "metadata": {},
   "outputs": [
    {
     "name": "stdout",
     "output_type": "stream",
     "text": [
      "  % Total    % Received % Xferd  Average Speed   Time    Time     Time  Current\n",
      "                                 Dload  Upload   Total   Spent    Left  Speed\n",
      "100 74.9M  100 74.9M    0     0  2431k      0  0:00:31  0:00:31 --:--:-- 7612k2 24.3M    0     0   989k      0  0:01:17  0:00:25  0:00:52 4044k\n"
     ]
    }
   ],
   "source": [
    "!curl -o data/2009.zip https://data.bls.gov/cew/data/files/2009/csv/2009_annual_singlefile.zip"
   ]
  },
  {
   "cell_type": "code",
   "execution_count": 9,
   "metadata": {},
   "outputs": [
    {
     "name": "stdout",
     "output_type": "stream",
     "text": [
      "  % Total    % Received % Xferd  Average Speed   Time    Time     Time  Current\n",
      "                                 Dload  Upload   Total   Spent    Left  Speed\n",
      " 14 74.9M   14 10.8M    0     0   5746      0  3:47:56  0:32:53  3:15:03   780 0   475k      0  0:02:41  0:00:22  0:02:19  574k\n",
      "curl: (18) transfer closed with 67246491 bytes remaining to read\n"
     ]
    }
   ],
   "source": [
    "!curl -o data/2008.zip https://data.bls.gov/cew/data/files/2008/csv/2008_annual_singlefile.zip"
   ]
  },
  {
   "cell_type": "code",
   "execution_count": 10,
   "metadata": {},
   "outputs": [
    {
     "name": "stdout",
     "output_type": "stream",
     "text": [
      "  % Total    % Received % Xferd  Average Speed   Time    Time     Time  Current\n",
      "                                 Dload  Upload   Total   Spent    Left  Speed\n",
      "100 74.8M  100 74.8M    0     0  2205k      0  0:00:34  0:00:34 --:--:-- 6704kM   56 42.5M    0     0  1462k      0  0:00:52  0:00:29  0:00:23 2672k\n"
     ]
    }
   ],
   "source": [
    "!curl -o data/2007.zip https://data.bls.gov/cew/data/files/2007/csv/2007_annual_singlefile.zip"
   ]
  },
  {
   "cell_type": "code",
   "execution_count": 11,
   "metadata": {},
   "outputs": [
    {
     "name": "stdout",
     "output_type": "stream",
     "text": [
      "  % Total    % Received % Xferd  Average Speed   Time    Time     Time  Current\n",
      "                                 Dload  Upload   Total   Spent    Left  Speed\n",
      "100 74.5M  100 74.5M    0     0  4635k      0  0:00:16  0:00:16 --:--:-- 2578k\n"
     ]
    }
   ],
   "source": [
    "!curl -o data/2006.zip https://data.bls.gov/cew/data/files/2006/csv/2006_annual_singlefile.zip"
   ]
  },
  {
   "cell_type": "code",
   "execution_count": 12,
   "metadata": {},
   "outputs": [
    {
     "name": "stdout",
     "output_type": "stream",
     "text": [
      "  % Total    % Received % Xferd  Average Speed   Time    Time     Time  Current\n",
      "                                 Dload  Upload   Total   Spent    Left  Speed\n",
      "100 74.1M  100 74.1M    0     0  2895k      0  0:00:26  0:00:26 --:--:-- 8221k    0     0   148k      0  0:08:30  0:00:06  0:08:24  150k  56 42.1M    0     0  1937k      0  0:00:39  0:00:22  0:00:17 7288k\n"
     ]
    }
   ],
   "source": [
    "!curl -o data/2005.zip https://data.bls.gov/cew/data/files/2005/csv/2005_annual_singlefile.zip"
   ]
  },
  {
   "cell_type": "code",
   "execution_count": 13,
   "metadata": {},
   "outputs": [
    {
     "name": "stdout",
     "output_type": "stream",
     "text": [
      "  % Total    % Received % Xferd  Average Speed   Time    Time     Time  Current\n",
      "                                 Dload  Upload   Total   Spent    Left  Speed\n",
      "100 73.9M  100 73.9M    0     0  1075k      0  0:01:10  0:01:10 --:--:-- 1887k    6 4672k    0     0   295k      0  0:04:15  0:00:15  0:04:00  514k\n"
     ]
    }
   ],
   "source": [
    "!curl -o data/2004.zip https://data.bls.gov/cew/data/files/2004/csv/2004_annual_singlefile.zip"
   ]
  },
  {
   "cell_type": "code",
   "execution_count": 14,
   "metadata": {},
   "outputs": [
    {
     "name": "stdout",
     "output_type": "stream",
     "text": [
      "  % Total    % Received % Xferd  Average Speed   Time    Time     Time  Current\n",
      "                                 Dload  Upload   Total   Spent    Left  Speed\n",
      "100 66.7M  100 66.7M    0     0  1400k      0  0:00:48  0:00:48 --:--:-- 5943k  0:00:15  0:01:55  440k   0     0   557k      0  0:02:02  0:00:28  0:01:34  695k   0  0:01:04  0:00:46  0:00:18 3232k\n"
     ]
    }
   ],
   "source": [
    "!curl -o data/2003.zip https://data.bls.gov/cew/data/files/2003/csv/2003_annual_singlefile.zip"
   ]
  },
  {
   "cell_type": "code",
   "execution_count": 15,
   "metadata": {},
   "outputs": [
    {
     "name": "stdout",
     "output_type": "stream",
     "text": [
      "  % Total    % Received % Xferd  Average Speed   Time    Time     Time  Current\n",
      "                                 Dload  Upload   Total   Spent    Left  Speed\n",
      "100 65.2M  100 65.2M    0     0  2100k      0  0:00:31  0:00:31 --:--:-- 7591k\n"
     ]
    }
   ],
   "source": [
    "!curl -o data/2002.zip https://data.bls.gov/cew/data/files/2002/csv/2002_annual_singlefile.zip"
   ]
  },
  {
   "cell_type": "code",
   "execution_count": 16,
   "metadata": {},
   "outputs": [
    {
     "name": "stdout",
     "output_type": "stream",
     "text": [
      "  % Total    % Received % Xferd  Average Speed   Time    Time     Time  Current\n",
      "                                 Dload  Upload   Total   Spent    Left  Speed\n",
      "100 40.6M  100 40.6M    0     0  1640k      0  0:00:25  0:00:25 --:--:-- 5451k\n"
     ]
    }
   ],
   "source": [
    "!curl -o data/2001.zip https://data.bls.gov/cew/data/files/2001/csv/2001_annual_singlefile.zip"
   ]
  },
  {
   "cell_type": "code",
   "execution_count": 17,
   "metadata": {},
   "outputs": [
    {
     "name": "stdout",
     "output_type": "stream",
     "text": [
      "  % Total    % Received % Xferd  Average Speed   Time    Time     Time  Current\n",
      "                                 Dload  Upload   Total   Spent    Left  Speed\n",
      "100 30.6M  100 30.6M    0     0  1552k      0  0:00:20  0:00:20 --:--:-- 3179k    0     0  1195k      0  0:00:26  0:00:17  0:00:09 2090k\n"
     ]
    }
   ],
   "source": [
    "!curl -o data/2000.zip https://data.bls.gov/cew/data/files/2000/csv/2000_annual_singlefile.zip"
   ]
  },
  {
   "cell_type": "code",
   "execution_count": 18,
   "metadata": {},
   "outputs": [
    {
     "name": "stdout",
     "output_type": "stream",
     "text": [
      "  % Total    % Received % Xferd  Average Speed   Time    Time     Time  Current\n",
      "                                 Dload  Upload   Total   Spent    Left  Speed\n",
      "100 30.3M  100 30.3M    0     0   489k      0  0:01:03  0:01:03 --:--:--  740k304k      0  0:01:42  0:00:19  0:01:23 92800 0     0   409k      0  0:01:16  0:00:41  0:00:35  660k\n"
     ]
    }
   ],
   "source": [
    "!curl -o data/1999.zip https://data.bls.gov/cew/data/files/1999/csv/1999_annual_singlefile.zip"
   ]
  },
  {
   "cell_type": "code",
   "execution_count": 19,
   "metadata": {},
   "outputs": [
    {
     "name": "stdout",
     "output_type": "stream",
     "text": [
      "  % Total    % Received % Xferd  Average Speed   Time    Time     Time  Current\n",
      "                                 Dload  Upload   Total   Spent    Left  Speed\n",
      "100 30.1M  100 30.1M    0     0   678k      0  0:00:45  0:00:45 --:--:--  818k\n"
     ]
    }
   ],
   "source": [
    "!curl -o data/1998.zip https://data.bls.gov/cew/data/files/1998/csv/1998_annual_singlefile.zip"
   ]
  },
  {
   "cell_type": "code",
   "execution_count": 20,
   "metadata": {},
   "outputs": [
    {
     "name": "stdout",
     "output_type": "stream",
     "text": [
      "  % Total    % Received % Xferd  Average Speed   Time    Time     Time  Current\n",
      "                                 Dload  Upload   Total   Spent    Left  Speed\n",
      "100 29.9M  100 29.9M    0     0   463k      0  0:01:06  0:01:06 --:--:--  612k      0  0:01:13  0:00:50  0:00:23  164k\n"
     ]
    }
   ],
   "source": [
    "!curl -o data/1997.zip https://data.bls.gov/cew/data/files/1997/csv/1997_annual_singlefile.zip"
   ]
  },
  {
   "cell_type": "code",
   "execution_count": 21,
   "metadata": {},
   "outputs": [
    {
     "name": "stdout",
     "output_type": "stream",
     "text": [
      "  % Total    % Received % Xferd  Average Speed   Time    Time     Time  Current\n",
      "                                 Dload  Upload   Total   Spent    Left  Speed\n",
      "100 29.6M  100 29.6M    0     0   475k      0  0:01:03  0:01:03 --:--:--  305k0  0:01:08  0:00:23  0:00:45  184k:59  0:00:55  0:00:04  422k0:01:03  0:01:02  0:00:01  275k\n"
     ]
    }
   ],
   "source": [
    "!curl -o data/1996.zip https://data.bls.gov/cew/data/files/1996/csv/1996_annual_singlefile.zip"
   ]
  },
  {
   "cell_type": "code",
   "execution_count": 22,
   "metadata": {},
   "outputs": [
    {
     "name": "stdout",
     "output_type": "stream",
     "text": [
      "  % Total    % Received % Xferd  Average Speed   Time    Time     Time  Current\n",
      "                                 Dload  Upload   Total   Spent    Left  Speed\n",
      "100 29.4M  100 29.4M    0     0   434k      0  0:01:09  0:01:09 --:--:--  600k  0     0   412k      0  0:01:12  0:00:44  0:00:28  502k\n"
     ]
    }
   ],
   "source": [
    "!curl -o data/1995.zip https://data.bls.gov/cew/data/files/1995/csv/1995_annual_singlefile.zip"
   ]
  },
  {
   "cell_type": "code",
   "execution_count": 23,
   "metadata": {},
   "outputs": [
    {
     "name": "stdout",
     "output_type": "stream",
     "text": [
      "  % Total    % Received % Xferd  Average Speed   Time    Time     Time  Current\n",
      "                                 Dload  Upload   Total   Spent    Left  Speed\n",
      "100 29.1M  100 29.1M    0     0   646k      0  0:00:46  0:00:46 --:--:--  567k20.0M    0     0   738k      0  0:00:40  0:00:27  0:00:13 1018k\n"
     ]
    }
   ],
   "source": [
    "!curl -o data/1994.zip https://data.bls.gov/cew/data/files/1994/csv/1994_annual_singlefile.zip"
   ]
  },
  {
   "cell_type": "code",
   "execution_count": 24,
   "metadata": {},
   "outputs": [
    {
     "name": "stdout",
     "output_type": "stream",
     "text": [
      "  % Total    % Received % Xferd  Average Speed   Time    Time     Time  Current\n",
      "                                 Dload  Upload   Total   Spent    Left  Speed\n",
      "100 28.9M  100 28.9M    0     0   403k      0  0:01:13  0:01:13 --:--:--  497k\n"
     ]
    }
   ],
   "source": [
    "!curl -o data/1993.zip https://data.bls.gov/cew/data/files/1993/csv/1993_annual_singlefile.zip"
   ]
  },
  {
   "cell_type": "code",
   "execution_count": 25,
   "metadata": {},
   "outputs": [
    {
     "name": "stdout",
     "output_type": "stream",
     "text": [
      "  % Total    % Received % Xferd  Average Speed   Time    Time     Time  Current\n",
      "                                 Dload  Upload   Total   Spent    Left  Speed\n",
      "100 28.8M  100 28.8M    0     0  1469k      0  0:00:20  0:00:20 --:--:-- 2340k79k\n"
     ]
    }
   ],
   "source": [
    "!curl -o data/1992.zip https://data.bls.gov/cew/data/files/1992/csv/1992_annual_singlefile.zip"
   ]
  },
  {
   "cell_type": "code",
   "execution_count": 26,
   "metadata": {},
   "outputs": [
    {
     "name": "stdout",
     "output_type": "stream",
     "text": [
      "  % Total    % Received % Xferd  Average Speed   Time    Time     Time  Current\n",
      "                                 Dload  Upload   Total   Spent    Left  Speed\n",
      "100 28.8M  100 28.8M    0     0   736k      0  0:00:40  0:00:40 --:--:-- 1902kM    0     0   632k      0  0:00:46  0:00:36  0:00:10 1534k\n"
     ]
    }
   ],
   "source": [
    "!curl -o data/1991.zip https://data.bls.gov/cew/data/files/1991/csv/1991_annual_singlefile.zip"
   ]
  },
  {
   "cell_type": "code",
   "execution_count": 27,
   "metadata": {},
   "outputs": [
    {
     "name": "stdout",
     "output_type": "stream",
     "text": [
      "  % Total    % Received % Xferd  Average Speed   Time    Time     Time  Current\n",
      "                                 Dload  Upload   Total   Spent    Left  Speed\n",
      "100 17.3M  100 17.3M    0     0  3201k      0  0:00:05  0:00:05 --:--:-- 3667k\n"
     ]
    }
   ],
   "source": [
    "!curl -o data/1990.zip https://data.bls.gov/cew/data/files/1990/csv/1990_annual_singlefile.zip"
   ]
  },
  {
   "cell_type": "code",
   "execution_count": 28,
   "metadata": {},
   "outputs": [
    {
     "name": "stdout",
     "output_type": "stream",
     "text": [
      "Archive:  ./data/1990.zip\n",
      "  inflating: ./data/1990.annual.singlefile.csv  \n",
      "\n",
      "Archive:  ./data/1991.zip\n",
      "  inflating: ./data/1991.annual.singlefile.csv  \n",
      "\n",
      "Archive:  ./data/1992.zip\n",
      "  inflating: ./data/1992.annual.singlefile.csv  \n",
      "\n",
      "Archive:  ./data/1993.zip\n",
      "  inflating: ./data/1993.annual.singlefile.csv  \n",
      "\n",
      "Archive:  ./data/1994.zip\n",
      "  inflating: ./data/1994.annual.singlefile.csv  \n",
      "\n",
      "Archive:  ./data/1995.zip\n",
      "  inflating: ./data/1995.annual.singlefile.csv  \n",
      "\n",
      "Archive:  ./data/1996.zip\n",
      "  inflating: ./data/1996.annual.singlefile.csv  \n",
      "\n",
      "Archive:  ./data/1997.zip\n",
      "  inflating: ./data/1997.annual.singlefile.csv  \n",
      "\n",
      "Archive:  ./data/1998.zip\n",
      "  inflating: ./data/1998.annual.singlefile.csv  \n",
      "\n",
      "Archive:  ./data/1999.zip\n",
      "  inflating: ./data/1999.annual.singlefile.csv  \n",
      "\n",
      "Archive:  ./data/2000.zip\n",
      "  inflating: ./data/2000.annual.singlefile.csv  \n",
      "\n",
      "Archive:  ./data/2001.zip\n",
      "  inflating: ./data/2001.annual.singlefile.csv  \n",
      "\n",
      "Archive:  ./data/2002.zip\n",
      "  inflating: ./data/2002.annual.singlefile.csv  \n",
      "\n",
      "Archive:  ./data/2003.zip\n",
      "  inflating: ./data/2003.annual.singlefile.csv  \n",
      "\n",
      "Archive:  ./data/2004.zip\n",
      "  inflating: ./data/2004.annual.singlefile.csv  \n",
      "\n",
      "Archive:  ./data/2005.zip\n",
      "  inflating: ./data/2005.annual.singlefile.csv  \n",
      "\n",
      "Archive:  ./data/2006.zip\n",
      "  inflating: ./data/2006.annual.singlefile.csv  \n",
      "\n",
      "Archive:  ./data/2007.zip\n",
      "  inflating: ./data/2007.annual.singlefile.csv  \n",
      "\n",
      "Archive:  ./data/2008.zip\n",
      "  End-of-central-directory signature not found.  Either this file is not\n",
      "  a zipfile, or it constitutes one disk of a multi-part archive.  In the\n",
      "  latter case the central directory and zipfile comment will be found on\n",
      "  the last disk(s) of this archive.\n",
      "note:  ./data/2008.zip may be a plain executable, not an archive\n",
      "Archive:  ./data/2009.zip\n",
      "  inflating: ./data/2009.annual.singlefile.csv  \n",
      "\n",
      "Archive:  ./data/2010.zip\n",
      "  inflating: ./data/2010.annual.singlefile.csv  \n",
      "\n",
      "Archive:  ./data/2011.zip\n",
      "  inflating: ./data/2011.annual.singlefile.csv  \n",
      "\n",
      "Archive:  ./data/2012.zip\n",
      "  inflating: ./data/2012.annual.singlefile.csv  \n",
      "\n",
      "Archive:  ./data/2013.zip\n",
      "  inflating: ./data/2013.annual.singlefile.csv  \n",
      "\n",
      "Archive:  ./data/2014.zip\n",
      "  inflating: ./data/2014.annual.singlefile.csv  \n",
      "\n",
      "Archive:  ./data/2015.zip\n",
      "  inflating: ./data/2015.annual.singlefile.csv  \n",
      "\n",
      "25 archives were successfully processed.\n",
      "1 file had no zipfile directory.\n"
     ]
    }
   ],
   "source": [
    "!unzip -n ./data/\\*.zip -d ./data/"
   ]
  }
 ],
 "metadata": {
  "kernelspec": {
   "display_name": "Python 3",
   "language": "python",
   "name": "python3"
  },
  "language_info": {
   "codemirror_mode": {
    "name": "ipython",
    "version": 3
   },
   "file_extension": ".py",
   "mimetype": "text/x-python",
   "name": "python",
   "nbconvert_exporter": "python",
   "pygments_lexer": "ipython3",
   "version": "3.7.3"
  }
 },
 "nbformat": 4,
 "nbformat_minor": 2
}
