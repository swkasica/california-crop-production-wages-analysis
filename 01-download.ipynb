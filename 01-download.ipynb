{
 "cells": [
  {
   "cell_type": "markdown",
   "metadata": {},
   "source": [
    "# Download \n",
    "\n",
    "Downloads the annual [Quarterly Census of Employment and Wages](https://www.bls.gov/cew/datatoc.htm) from the U.S. Bureau of Labor Statistics."
   ]
  },
  {
   "cell_type": "code",
   "execution_count": 1,
   "metadata": {},
   "outputs": [
    {
     "name": "stdout",
     "output_type": "stream",
     "text": [
      "  % Total    % Received % Xferd  Average Speed   Time    Time     Time  Current\n",
      "                                 Dload  Upload   Total   Spent    Left  Speed\n",
      "100  167k  100  167k    0     0   211k      0 --:--:-- --:--:-- --:--:--  211k\n"
     ]
    }
   ],
   "source": [
    "!curl -o data/area_titles.csv https://data.bls.gov/cew/doc/titles/area/area_titles.csv"
   ]
  },
  {
   "cell_type": "code",
   "execution_count": 2,
   "metadata": {},
   "outputs": [
    {
     "name": "stdout",
     "output_type": "stream",
     "text": [
      "  % Total    % Received % Xferd  Average Speed   Time    Time     Time  Current\n",
      "                                 Dload  Upload   Total   Spent    Left  Speed\n",
      "100 74.1M  100 74.1M    0     0  10.6M      0  0:00:06  0:00:06 --:--:-- 12.0M\n"
     ]
    }
   ],
   "source": [
    "!curl -o data/2015.zip https://data.bls.gov/cew/data/files/2015/csv/2015_annual_singlefile.zip"
   ]
  },
  {
   "cell_type": "code",
   "execution_count": 3,
   "metadata": {},
   "outputs": [
    {
     "name": "stdout",
     "output_type": "stream",
     "text": [
      "  % Total    % Received % Xferd  Average Speed   Time    Time     Time  Current\n",
      "                                 Dload  Upload   Total   Spent    Left  Speed\n",
      "100 73.7M  100 73.7M    0     0  6039k      0  0:00:12  0:00:12 --:--:-- 5027k\n"
     ]
    }
   ],
   "source": [
    "!curl -o data/2014.zip https://data.bls.gov/cew/data/files/2014/csv/2014_annual_singlefile.zip"
   ]
  },
  {
   "cell_type": "code",
   "execution_count": 4,
   "metadata": {},
   "outputs": [
    {
     "name": "stdout",
     "output_type": "stream",
     "text": [
      "  % Total    % Received % Xferd  Average Speed   Time    Time     Time  Current\n",
      "                                 Dload  Upload   Total   Spent    Left  Speed\n",
      "100 73.3M  100 73.3M    0     0  8455k      0  0:00:08  0:00:08 --:--:-- 12.1M\n"
     ]
    }
   ],
   "source": [
    "!curl -o data/2013.zip https://data.bls.gov/cew/data/files/2013/csv/2013_annual_singlefile.zip"
   ]
  },
  {
   "cell_type": "code",
   "execution_count": 5,
   "metadata": {},
   "outputs": [
    {
     "name": "stdout",
     "output_type": "stream",
     "text": [
      "  % Total    % Received % Xferd  Average Speed   Time    Time     Time  Current\n",
      "                                 Dload  Upload   Total   Spent    Left  Speed\n",
      "100 73.2M  100 73.2M    0     0  11.5M      0  0:00:06  0:00:06 --:--:-- 14.4M\n"
     ]
    }
   ],
   "source": [
    "!curl -o data/2012.zip https://data.bls.gov/cew/data/files/2012/csv/2012_annual_singlefile.zip"
   ]
  },
  {
   "cell_type": "code",
   "execution_count": 6,
   "metadata": {},
   "outputs": [
    {
     "name": "stdout",
     "output_type": "stream",
     "text": [
      "  % Total    % Received % Xferd  Average Speed   Time    Time     Time  Current\n",
      "                                 Dload  Upload   Total   Spent    Left  Speed\n",
      "100 73.1M  100 73.1M    0     0  4261k      0  0:00:17  0:00:17 --:--:-- 6261kM   59 43.6M    0     0  3572k      0  0:00:20  0:00:12  0:00:08 4635k\n"
     ]
    }
   ],
   "source": [
    "!curl -o data/2011.zip https://data.bls.gov/cew/data/files/2011/csv/2011_annual_singlefile.zip"
   ]
  },
  {
   "cell_type": "code",
   "execution_count": 7,
   "metadata": {},
   "outputs": [
    {
     "name": "stdout",
     "output_type": "stream",
     "text": [
      "  % Total    % Received % Xferd  Average Speed   Time    Time     Time  Current\n",
      "                                 Dload  Upload   Total   Spent    Left  Speed\n",
      "100 74.3M  100 74.3M    0     0  10.8M      0  0:00:06  0:00:06 --:--:-- 13.6M\n"
     ]
    }
   ],
   "source": [
    "!curl -o data/2010.zip https://data.bls.gov/cew/data/files/2010/csv/2010_annual_singlefile.zip"
   ]
  },
  {
   "cell_type": "code",
   "execution_count": 8,
   "metadata": {},
   "outputs": [
    {
     "name": "stdout",
     "output_type": "stream",
     "text": [
      "  % Total    % Received % Xferd  Average Speed   Time    Time     Time  Current\n",
      "                                 Dload  Upload   Total   Spent    Left  Speed\n",
      "100 74.9M  100 74.9M    0     0  11.0M      0  0:00:06  0:00:06 --:--:-- 13.2M\n"
     ]
    }
   ],
   "source": [
    "!curl -o data/2009.zip https://data.bls.gov/cew/data/files/2009/csv/2009_annual_singlefile.zip"
   ]
  },
  {
   "cell_type": "code",
   "execution_count": 9,
   "metadata": {},
   "outputs": [
    {
     "name": "stdout",
     "output_type": "stream",
     "text": [
      "  % Total    % Received % Xferd  Average Speed   Time    Time     Time  Current\n",
      "                                 Dload  Upload   Total   Spent    Left  Speed\n",
      "100 74.9M  100 74.9M    0     0  10.5M      0  0:00:07  0:00:07 --:--:-- 13.3M\n"
     ]
    }
   ],
   "source": [
    "!curl -o data/2008.zip https://data.bls.gov/cew/data/files/2008/csv/2008_annual_singlefile.zip"
   ]
  },
  {
   "cell_type": "code",
   "execution_count": 10,
   "metadata": {},
   "outputs": [
    {
     "name": "stdout",
     "output_type": "stream",
     "text": [
      "  % Total    % Received % Xferd  Average Speed   Time    Time     Time  Current\n",
      "                                 Dload  Upload   Total   Spent    Left  Speed\n",
      "100 74.8M  100 74.8M    0     0  11.3M      0  0:00:06  0:00:06 --:--:-- 14.6M\n"
     ]
    }
   ],
   "source": [
    "!curl -o data/2007.zip https://data.bls.gov/cew/data/files/2007/csv/2007_annual_singlefile.zip"
   ]
  },
  {
   "cell_type": "code",
   "execution_count": 11,
   "metadata": {},
   "outputs": [
    {
     "name": "stdout",
     "output_type": "stream",
     "text": [
      "  % Total    % Received % Xferd  Average Speed   Time    Time     Time  Current\n",
      "                                 Dload  Upload   Total   Spent    Left  Speed\n",
      "100 74.5M  100 74.5M    0     0  9637k      0  0:00:07  0:00:07 --:--:-- 10.8M\n"
     ]
    }
   ],
   "source": [
    "!curl -o data/2006.zip https://data.bls.gov/cew/data/files/2006/csv/2006_annual_singlefile.zip"
   ]
  },
  {
   "cell_type": "code",
   "execution_count": 12,
   "metadata": {},
   "outputs": [
    {
     "name": "stdout",
     "output_type": "stream",
     "text": [
      "  % Total    % Received % Xferd  Average Speed   Time    Time     Time  Current\n",
      "                                 Dload  Upload   Total   Spent    Left  Speed\n",
      "100 74.1M  100 74.1M    0     0  10.1M      0  0:00:07  0:00:07 --:--:-- 11.2M\n"
     ]
    }
   ],
   "source": [
    "!curl -o data/2005.zip https://data.bls.gov/cew/data/files/2005/csv/2005_annual_singlefile.zip"
   ]
  },
  {
   "cell_type": "code",
   "execution_count": 13,
   "metadata": {},
   "outputs": [
    {
     "name": "stdout",
     "output_type": "stream",
     "text": [
      "  % Total    % Received % Xferd  Average Speed   Time    Time     Time  Current\n",
      "                                 Dload  Upload   Total   Spent    Left  Speed\n",
      "100 73.9M  100 73.9M    0     0  8370k      0  0:00:09  0:00:09 --:--:-- 9504k\n"
     ]
    }
   ],
   "source": [
    "!curl -o data/2004.zip https://data.bls.gov/cew/data/files/2004/csv/2004_annual_singlefile.zip"
   ]
  },
  {
   "cell_type": "code",
   "execution_count": 14,
   "metadata": {},
   "outputs": [
    {
     "name": "stdout",
     "output_type": "stream",
     "text": [
      "  % Total    % Received % Xferd  Average Speed   Time    Time     Time  Current\n",
      "                                 Dload  Upload   Total   Spent    Left  Speed\n",
      "100 66.7M  100 66.7M    0     0  10.0M      0  0:00:06  0:00:06 --:--:-- 13.3M\n"
     ]
    }
   ],
   "source": [
    "!curl -o data/2003.zip https://data.bls.gov/cew/data/files/2003/csv/2003_annual_singlefile.zip"
   ]
  },
  {
   "cell_type": "code",
   "execution_count": 15,
   "metadata": {},
   "outputs": [
    {
     "name": "stdout",
     "output_type": "stream",
     "text": [
      "  % Total    % Received % Xferd  Average Speed   Time    Time     Time  Current\n",
      "                                 Dload  Upload   Total   Spent    Left  Speed\n",
      "100 65.2M  100 65.2M    0     0  11.2M      0  0:00:05  0:00:05 --:--:-- 14.6M\n"
     ]
    }
   ],
   "source": [
    "!curl -o data/2002.zip https://data.bls.gov/cew/data/files/2002/csv/2002_annual_singlefile.zip"
   ]
  },
  {
   "cell_type": "code",
   "execution_count": 16,
   "metadata": {},
   "outputs": [
    {
     "name": "stdout",
     "output_type": "stream",
     "text": [
      "  % Total    % Received % Xferd  Average Speed   Time    Time     Time  Current\n",
      "                                 Dload  Upload   Total   Spent    Left  Speed\n",
      "100 40.6M  100 40.6M    0     0  8447k      0  0:00:04  0:00:04 --:--:-- 9481k6\n"
     ]
    }
   ],
   "source": [
    "!curl -o data/2001.zip https://data.bls.gov/cew/data/files/2001/csv/2001_annual_singlefile.zip"
   ]
  },
  {
   "cell_type": "code",
   "execution_count": 17,
   "metadata": {},
   "outputs": [
    {
     "name": "stdout",
     "output_type": "stream",
     "text": [
      "  % Total    % Received % Xferd  Average Speed   Time    Time     Time  Current\n",
      "                                 Dload  Upload   Total   Spent    Left  Speed\n",
      "100 30.6M  100 30.6M    0     0  7031k      0  0:00:04  0:00:04 --:--:-- 7155k\n"
     ]
    }
   ],
   "source": [
    "!curl -o data/2000.zip https://data.bls.gov/cew/data/files/2000/csv/2000_annual_singlefile.zip"
   ]
  },
  {
   "cell_type": "code",
   "execution_count": 18,
   "metadata": {},
   "outputs": [
    {
     "name": "stdout",
     "output_type": "stream",
     "text": [
      "  % Total    % Received % Xferd  Average Speed   Time    Time     Time  Current\n",
      "                                 Dload  Upload   Total   Spent    Left  Speed\n",
      "100 30.3M  100 30.3M    0     0  8051k      0  0:00:03  0:00:03 --:--:-- 8049k\n"
     ]
    }
   ],
   "source": [
    "!curl -o data/1999.zip https://data.bls.gov/cew/data/files/1999/csv/1999_annual_singlefile.zip"
   ]
  },
  {
   "cell_type": "code",
   "execution_count": 19,
   "metadata": {},
   "outputs": [
    {
     "name": "stdout",
     "output_type": "stream",
     "text": [
      "  % Total    % Received % Xferd  Average Speed   Time    Time     Time  Current\n",
      "                                 Dload  Upload   Total   Spent    Left  Speed\n",
      "100 30.1M  100 30.1M    0     0  6280k      0  0:00:04  0:00:04 --:--:-- 6908k\n"
     ]
    }
   ],
   "source": [
    "!curl -o data/1998.zip https://data.bls.gov/cew/data/files/1998/csv/1998_annual_singlefile.zip"
   ]
  },
  {
   "cell_type": "code",
   "execution_count": 20,
   "metadata": {},
   "outputs": [
    {
     "name": "stdout",
     "output_type": "stream",
     "text": [
      "  % Total    % Received % Xferd  Average Speed   Time    Time     Time  Current\n",
      "                                 Dload  Upload   Total   Spent    Left  Speed\n",
      "100 29.9M  100 29.9M    0     0  8109k      0  0:00:03  0:00:03 --:--:-- 8109k\n"
     ]
    }
   ],
   "source": [
    "!curl -o data/1997.zip https://data.bls.gov/cew/data/files/1997/csv/1997_annual_singlefile.zip"
   ]
  },
  {
   "cell_type": "code",
   "execution_count": 21,
   "metadata": {},
   "outputs": [
    {
     "name": "stdout",
     "output_type": "stream",
     "text": [
      "  % Total    % Received % Xferd  Average Speed   Time    Time     Time  Current\n",
      "                                 Dload  Upload   Total   Spent    Left  Speed\n",
      "100 29.6M  100 29.6M    0     0  7725k      0  0:00:03  0:00:03 --:--:-- 7723k\n"
     ]
    }
   ],
   "source": [
    "!curl -o data/1996.zip https://data.bls.gov/cew/data/files/1996/csv/1996_annual_singlefile.zip"
   ]
  },
  {
   "cell_type": "code",
   "execution_count": 22,
   "metadata": {},
   "outputs": [
    {
     "name": "stdout",
     "output_type": "stream",
     "text": [
      "  % Total    % Received % Xferd  Average Speed   Time    Time     Time  Current\n",
      "                                 Dload  Upload   Total   Spent    Left  Speed\n",
      "100 29.4M  100 29.4M    0     0  8018k      0  0:00:03  0:00:03 --:--:-- 8016k\n"
     ]
    }
   ],
   "source": [
    "!curl -o data/1995.zip https://data.bls.gov/cew/data/files/1995/csv/1995_annual_singlefile.zip"
   ]
  },
  {
   "cell_type": "code",
   "execution_count": 23,
   "metadata": {},
   "outputs": [
    {
     "name": "stdout",
     "output_type": "stream",
     "text": [
      "  % Total    % Received % Xferd  Average Speed   Time    Time     Time  Current\n",
      "                                 Dload  Upload   Total   Spent    Left  Speed\n",
      "100 29.1M  100 29.1M    0     0  4560k      0  0:00:06  0:00:06 --:--:-- 5513k\n"
     ]
    }
   ],
   "source": [
    "!curl -o data/1994.zip https://data.bls.gov/cew/data/files/1994/csv/1994_annual_singlefile.zip"
   ]
  },
  {
   "cell_type": "code",
   "execution_count": 24,
   "metadata": {},
   "outputs": [
    {
     "name": "stdout",
     "output_type": "stream",
     "text": [
      "  % Total    % Received % Xferd  Average Speed   Time    Time     Time  Current\n",
      "                                 Dload  Upload   Total   Spent    Left  Speed\n",
      "100 28.9M  100 28.9M    0     0  8384k      0  0:00:03  0:00:03 --:--:-- 8386k\n"
     ]
    }
   ],
   "source": [
    "!curl -o data/1993.zip https://data.bls.gov/cew/data/files/1993/csv/1993_annual_singlefile.zip"
   ]
  },
  {
   "cell_type": "code",
   "execution_count": 25,
   "metadata": {},
   "outputs": [
    {
     "name": "stdout",
     "output_type": "stream",
     "text": [
      "  % Total    % Received % Xferd  Average Speed   Time    Time     Time  Current\n",
      "                                 Dload  Upload   Total   Spent    Left  Speed\n",
      "100 28.8M  100 28.8M    0     0  5514k      0  0:00:05  0:00:05 --:--:-- 6405k\n"
     ]
    }
   ],
   "source": [
    "!curl -o data/1992.zip https://data.bls.gov/cew/data/files/1992/csv/1992_annual_singlefile.zip"
   ]
  },
  {
   "cell_type": "code",
   "execution_count": 26,
   "metadata": {},
   "outputs": [
    {
     "name": "stdout",
     "output_type": "stream",
     "text": [
      "  % Total    % Received % Xferd  Average Speed   Time    Time     Time  Current\n",
      "                                 Dload  Upload   Total   Spent    Left  Speed\n",
      "100 28.8M  100 28.8M    0     0  9406k      0  0:00:03  0:00:03 --:--:-- 9249k 0:00:03 --:--:-- 9403k\n"
     ]
    }
   ],
   "source": [
    "!curl -o data/1991.zip https://data.bls.gov/cew/data/files/1991/csv/1991_annual_singlefile.zip"
   ]
  },
  {
   "cell_type": "code",
   "execution_count": 27,
   "metadata": {},
   "outputs": [
    {
     "name": "stdout",
     "output_type": "stream",
     "text": [
      "  % Total    % Received % Xferd  Average Speed   Time    Time     Time  Current\n",
      "                                 Dload  Upload   Total   Spent    Left  Speed\n",
      "100 17.3M  100 17.3M    0     0  4564k      0  0:00:03  0:00:03 --:--:-- 4563k\n"
     ]
    }
   ],
   "source": [
    "!curl -o data/1990.zip https://data.bls.gov/cew/data/files/1990/csv/1990_annual_singlefile.zip"
   ]
  },
  {
   "cell_type": "code",
   "execution_count": 28,
   "metadata": {},
   "outputs": [
    {
     "name": "stdout",
     "output_type": "stream",
     "text": [
      "Archive:  ./data/1990.zip\n",
      "\n",
      "Archive:  ./data/1991.zip\n",
      "\n",
      "Archive:  ./data/1992.zip\n",
      "\n",
      "Archive:  ./data/1993.zip\n",
      "\n",
      "Archive:  ./data/1994.zip\n",
      "\n",
      "Archive:  ./data/1995.zip\n",
      "\n",
      "Archive:  ./data/1996.zip\n",
      "\n",
      "Archive:  ./data/1997.zip\n",
      "\n",
      "Archive:  ./data/1998.zip\n",
      "\n",
      "Archive:  ./data/1999.zip\n",
      "\n",
      "Archive:  ./data/2000.zip\n",
      "\n",
      "Archive:  ./data/2001.zip\n",
      "\n",
      "Archive:  ./data/2002.zip\n",
      "\n",
      "Archive:  ./data/2003.zip\n",
      "\n",
      "Archive:  ./data/2004.zip\n",
      "\n",
      "Archive:  ./data/2005.zip\n",
      "\n",
      "Archive:  ./data/2006.zip\n",
      "\n",
      "Archive:  ./data/2007.zip\n",
      "\n",
      "Archive:  ./data/2008.zip\n",
      "  inflating: ./data/2008.annual.singlefile.csv  \n",
      "\n",
      "Archive:  ./data/2009.zip\n",
      "\n",
      "Archive:  ./data/2010.zip\n",
      "\n",
      "Archive:  ./data/2011.zip\n",
      "\n",
      "Archive:  ./data/2012.zip\n",
      "\n",
      "Archive:  ./data/2013.zip\n",
      "\n",
      "Archive:  ./data/2014.zip\n",
      "\n",
      "Archive:  ./data/2015.zip\n",
      "\n",
      "26 archives were successfully processed.\n"
     ]
    }
   ],
   "source": [
    "!unzip -n ./data/\\*.zip -d ./data/"
   ]
  }
 ],
 "metadata": {
  "kernelspec": {
   "display_name": "Python 3",
   "language": "python",
   "name": "python3"
  },
  "language_info": {
   "codemirror_mode": {
    "name": "ipython",
    "version": 3
   },
   "file_extension": ".py",
   "mimetype": "text/x-python",
   "name": "python",
   "nbconvert_exporter": "python",
   "pygments_lexer": "ipython3",
   "version": "3.7.3"
  }
 },
 "nbformat": 4,
 "nbformat_minor": 2
}
